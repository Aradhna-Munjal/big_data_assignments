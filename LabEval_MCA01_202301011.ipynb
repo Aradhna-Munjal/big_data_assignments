{
 "cells": [
  {
   "cell_type": "code",
   "execution_count": 16,
   "id": "5a866192-111e-4a36-aaa9-0608d1c34719",
   "metadata": {},
   "outputs": [],
   "source": [
    "import numpy as np"
   ]
  },
  {
   "cell_type": "code",
   "execution_count": 17,
   "id": "ccd5c141-5a0f-4dc2-a3e4-bc58dfa93d82",
   "metadata": {},
   "outputs": [],
   "source": [
    "p=np.array([[1,2],[2,3]])\n",
    "q=np.array([[4,5],[6,7]])"
   ]
  },
  {
   "cell_type": "code",
   "execution_count": 18,
   "id": "1d6ecbab-791e-4778-8a22-bb5320aba750",
   "metadata": {},
   "outputs": [],
   "source": [
    "product = np.matmul(p, q)\n"
   ]
  },
  {
   "cell_type": "code",
   "execution_count": 19,
   "id": "54d8fcf6-a610-476a-a1d9-f0275de51b2f",
   "metadata": {},
   "outputs": [
    {
     "name": "stdout",
     "output_type": "stream",
     "text": [
      "Product of 2 Matrices p and q is = \n",
      "[[16 19]\n",
      " [26 31]]\n"
     ]
    }
   ],
   "source": [
    "print(\"Product of 2 Matrices p and q is = \")\n",
    "print(product)"
   ]
  },
  {
   "cell_type": "code",
   "execution_count": 20,
   "id": "aa18eab1-68bb-420d-b9f0-1598789a11f5",
   "metadata": {},
   "outputs": [],
   "source": [
    "covmat=np.cov(p,q)\n"
   ]
  },
  {
   "cell_type": "code",
   "execution_count": 21,
   "id": "136484a8-321f-4635-a116-ede7325f6406",
   "metadata": {},
   "outputs": [
    {
     "name": "stdout",
     "output_type": "stream",
     "text": [
      "Covariance of matrices P and Q is =\n",
      "[[0.5 0.5 0.5 0.5]\n",
      " [0.5 0.5 0.5 0.5]\n",
      " [0.5 0.5 0.5 0.5]\n",
      " [0.5 0.5 0.5 0.5]]\n"
     ]
    }
   ],
   "source": [
    "print(\"Covariance of matrices P and Q is =\")\n",
    "print(covmat)"
   ]
  },
  {
   "cell_type": "code",
   "execution_count": null,
   "id": "47397809-2bb3-4ba5-bd3c-65a2b6c08ed4",
   "metadata": {},
   "outputs": [],
   "source": []
  }
 ],
 "metadata": {
  "kernelspec": {
   "display_name": "Python 3 (ipykernel)",
   "language": "python",
   "name": "python3"
  },
  "language_info": {
   "codemirror_mode": {
    "name": "ipython",
    "version": 3
   },
   "file_extension": ".py",
   "mimetype": "text/x-python",
   "name": "python",
   "nbconvert_exporter": "python",
   "pygments_lexer": "ipython3",
   "version": "3.11.4"
  }
 },
 "nbformat": 4,
 "nbformat_minor": 5
}
