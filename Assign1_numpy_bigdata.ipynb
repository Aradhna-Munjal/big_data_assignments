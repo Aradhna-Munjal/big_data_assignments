{
 "cells": [
  {
   "cell_type": "code",
   "execution_count": 1,
   "id": "3b91a750-ea9a-4c69-a4a0-57b6ea0c05d6",
   "metadata": {},
   "outputs": [
    {
     "name": "stdout",
     "output_type": "stream",
     "text": [
      "Reversed array: [5 4 6 3 2 1]\n"
     ]
    }
   ],
   "source": [
    "import numpy as np\n",
    "\n",
    "# 1. Reverse the NumPy array\n",
    "arr = np.array([1, 2, 3, 6, 4, 5])\n",
    "reversed_arr = np.flip(arr)\n",
    "print(\"Reversed array:\", reversed_arr)"
   ]
  },
  {
   "cell_type": "code",
   "execution_count": 2,
   "id": "6a9a71bf-3944-4c89-94fd-adb299249b26",
   "metadata": {},
   "outputs": [
    {
     "name": "stdout",
     "output_type": "stream",
     "text": [
      "Arrays are equal: True\n"
     ]
    }
   ],
   "source": [
    "arr1 = np.array([[1, 2], [3, 4]])\n",
    "arr2 = np.array([[1, 2], [3, 4]])\n",
    "comparison = np.array_equal(arr1, arr2)\n",
    "print(\"Arrays are equal:\", comparison)"
   ]
  },
  {
   "cell_type": "code",
   "execution_count": 3,
   "id": "93c25b06-7f07-4bab-b57f-591d81653b47",
   "metadata": {},
   "outputs": [
    {
     "name": "stdout",
     "output_type": "stream",
     "text": [
      "Most frequent value in x: 1\n",
      "Indices of the most frequent value in x: [0 5 7 8 9]\n"
     ]
    }
   ],
   "source": [
    "# 3. Find the most frequent value and their indice(s) in the following arrays\n",
    "# i. x\n",
    "x = np.array([1, 2, 3, 4, 5, 1, 2, 1, 1, 1])\n",
    "unique_values, counts = np.unique(x, return_counts=True)\n",
    "most_frequent_value = unique_values[np.argmax(counts)]\n",
    "indices = np.where(x == most_frequent_value)[0]\n",
    "print(\"Most frequent value in x:\", most_frequent_value)\n",
    "print(\"Indices of the most frequent value in x:\", indices)\n"
   ]
  },
  {
   "cell_type": "code",
   "execution_count": 4,
   "id": "0a36214f-134f-42ba-841d-49bc45b4c692",
   "metadata": {},
   "outputs": [
    {
     "name": "stdout",
     "output_type": "stream",
     "text": [
      "Most frequent value in y: 1\n",
      "Indices of the most frequent value in y: [0 1 2]\n"
     ]
    }
   ],
   "source": [
    "y = np.array([1, 1, 1, 2, 3, 4, 2, 4, 3, 3])\n",
    "unique_values, counts = np.unique(y, return_counts=True)\n",
    "most_frequent_value = unique_values[np.argmax(counts)]\n",
    "indices = np.where(y == most_frequent_value)[0]\n",
    "print(\"Most frequent value in y:\", most_frequent_value)\n",
    "print(\"Indices of the most frequent value in y:\", indices)\n",
    "\n",
    "\n"
   ]
  },
  {
   "cell_type": "code",
   "execution_count": 5,
   "id": "daee2bbe-3d93-45c9-824c-d182f0fbac4d",
   "metadata": {},
   "outputs": [
    {
     "name": "stdout",
     "output_type": "stream",
     "text": [
      "Sum of all elements: 45\n",
      "Sum of all elements row-wise: [[14]\n",
      " [16]\n",
      " [15]]\n",
      "Sum of all elements column-wise: [[20  9 16]]\n"
     ]
    }
   ],
   "source": [
    "gfg = np.matrix('4, 1, 9; 12, 3, 1; 4, 5, 6')\n",
    "# i. Sum of all elements\n",
    "total_sum = np.sum(gfg)\n",
    "print(\"Sum of all elements:\", total_sum)\n",
    "# ii. Sum of all elements row-wise\n",
    "row_sums = np.sum(gfg, axis=1)\n",
    "print(\"Sum of all elements row-wise:\", row_sums)\n",
    "# iii. Sum of all elements column-wise\n",
    "column_sums = np.sum(gfg, axis=0)\n",
    "print(\"Sum of all elements column-wise:\", column_sums)"
   ]
  },
  {
   "cell_type": "code",
   "execution_count": null,
   "id": "5e2202f9-60f8-4040-97d5-5c0e8d1d8ebf",
   "metadata": {},
   "outputs": [],
   "source": []
  }
 ],
 "metadata": {
  "kernelspec": {
   "display_name": "Python 3 (ipykernel)",
   "language": "python",
   "name": "python3"
  },
  "language_info": {
   "codemirror_mode": {
    "name": "ipython",
    "version": 3
   },
   "file_extension": ".py",
   "mimetype": "text/x-python",
   "name": "python",
   "nbconvert_exporter": "python",
   "pygments_lexer": "ipython3",
   "version": "3.11.4"
  }
 },
 "nbformat": 4,
 "nbformat_minor": 5
}
